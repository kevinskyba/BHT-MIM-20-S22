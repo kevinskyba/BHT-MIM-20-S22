{
 "cells": [
  {
   "cell_type": "markdown",
   "id": "4dd2cb59",
   "metadata": {},
   "source": [
    "# Exercise 1"
   ]
  },
  {
   "cell_type": "code",
   "execution_count": null,
   "id": "5ee61edf",
   "metadata": {},
   "outputs": [],
   "source": [
    "#0 get data\n",
    "data_table = [\n",
    "    [5.1,3.5,1.4,.2,\"Setosa\"],\n",
    "    [4.9,3,1.4,.2,\"Setosa\"],\n",
    "    [4.7,3.2,1.3,.2,\"Setosa\"],\n",
    "    \n",
    "    [7,3.2,4.7,1.4,\"Versicolor\"],\n",
    "    [6.4,3.2,4.5,1.5,\"Versicolor\"],\n",
    "    [6.9,3.1,4.9,1.5,\"Versicolor\"],\n",
    "    \n",
    "    [6.3,3.3,6,2.5,\"Virginica\"],\n",
    "    [5.8,2.7,5.1,1.9,\"Virginica\"],\n",
    "    [7.1,3,5.9,2.1,\"Virginica\"],\n",
    "    \n",
    "    #test\n",
    "    [6.7,3.1,4.7,1.5,\"Versicolor\"],\n",
    "    [5,3.3,1.4,.2,\"Setosa\"],\n",
    "    [7.7,2.8,6.7,2,\"Virginica\"]\n",
    "]"
   ]
  },
  {
   "cell_type": "code",
   "execution_count": 23,
   "id": "b232955b",
   "metadata": {},
   "outputs": [
    {
     "data": {
      "text/plain": [
       "[[0.6623376623376622,\n",
       "  0.45454545454545453,\n",
       "  0.1818181818181818,\n",
       "  0.025974025974025976,\n",
       "  'Setosa'],\n",
       " [0.6363636363636364,\n",
       "  0.38961038961038963,\n",
       "  0.1818181818181818,\n",
       "  0.025974025974025976,\n",
       "  'Setosa'],\n",
       " [0.6103896103896104,\n",
       "  0.4155844155844156,\n",
       "  0.16883116883116883,\n",
       "  0.025974025974025976,\n",
       "  'Setosa'],\n",
       " [0.9090909090909091,\n",
       "  0.4155844155844156,\n",
       "  0.6103896103896104,\n",
       "  0.1818181818181818,\n",
       "  'Versicolor'],\n",
       " [0.8311688311688312,\n",
       "  0.4155844155844156,\n",
       "  0.5844155844155844,\n",
       "  0.19480519480519481,\n",
       "  'Versicolor'],\n",
       " [0.8961038961038962,\n",
       "  0.4025974025974026,\n",
       "  0.6363636363636364,\n",
       "  0.19480519480519481,\n",
       "  'Versicolor'],\n",
       " [0.8181818181818181,\n",
       "  0.42857142857142855,\n",
       "  0.7792207792207793,\n",
       "  0.3246753246753247,\n",
       "  'Virginica'],\n",
       " [0.7532467532467532,\n",
       "  0.35064935064935066,\n",
       "  0.6623376623376622,\n",
       "  0.24675324675324672,\n",
       "  'Virginica'],\n",
       " [0.922077922077922,\n",
       "  0.38961038961038963,\n",
       "  0.7662337662337663,\n",
       "  0.2727272727272727,\n",
       "  'Virginica'],\n",
       " [0.8701298701298701,\n",
       "  0.4025974025974026,\n",
       "  0.6103896103896104,\n",
       "  0.19480519480519481,\n",
       "  'Versicolor'],\n",
       " [0.6493506493506493,\n",
       "  0.42857142857142855,\n",
       "  0.1818181818181818,\n",
       "  0.025974025974025976,\n",
       "  'Setosa'],\n",
       " [1.0,\n",
       "  0.3636363636363636,\n",
       "  0.8701298701298701,\n",
       "  0.2597402597402597,\n",
       "  'Virginica']]"
      ]
     },
     "execution_count": 23,
     "metadata": {},
     "output_type": "execute_result"
    }
   ],
   "source": [
    "#1 funct: You normalize your data in another table\n",
    "data_table_max = 0\n",
    "for entry in data_table:\n",
    "    data_table_max = max(data_table_max, max(entry[:4]))\n",
    "data_table_max\n",
    "data_table_norm = [[i / data_table_max for i in entry[:4]] for entry in data_table]\n",
    "data_table_norm = [data_table_norm[i] + [data_table[i][4]] for i in range(len(data_table_norm))]\n",
    "data_table_norm"
   ]
  },
  {
   "cell_type": "code",
   "execution_count": 28,
   "id": "ff83b824",
   "metadata": {},
   "outputs": [
    {
     "data": {
      "text/plain": [
       "3"
      ]
     },
     "execution_count": 28,
     "metadata": {},
     "output_type": "execute_result"
    }
   ],
   "source": [
    "train_data = data_table_norm[0:8]\n",
    "test_data = data_table_norm[9:]"
   ]
  },
  {
   "cell_type": "code",
   "execution_count": 30,
   "id": "fc466242",
   "metadata": {},
   "outputs": [],
   "source": [
    "#2 funct: You code a simple euclid distance function\n",
    "import math\n",
    "\n",
    "def euclid(a, b):\n",
    "    dist = 0\n",
    "    for i in range(4):\n",
    "        dist = dist + pow(a[i] - b[i], 2)\n",
    "    return math.sqrt(dist)"
   ]
  },
  {
   "cell_type": "code",
   "execution_count": 37,
   "id": "06d55655",
   "metadata": {},
   "outputs": [],
   "source": [
    "import operator\n",
    "\n",
    "def KNN(train, test, K):\n",
    "    dists = []\n",
    "    \n",
    "    #3 funct: You take a point and calculate the distance to all points\n",
    "    for entry in train:\n",
    "        dists.append((entry, euclid(test, entry)))\n",
    "        \n",
    "    #4 funct: You take the list from above and sort it\n",
    "    dists.sort(key=lambda t: t[1])\n",
    "        \n",
    "    #5 funct: You aggregate by target variable\n",
    "    neighbours = []\n",
    "    for i in range(K):\n",
    "        neighbours.append(dists[i][0])\n",
    "  \n",
    "    #6 funct: you take the max to determine the targe class\n",
    "    votes = {}\n",
    "    for i in range(len(neighbours)):\n",
    "        pred = neighbours[i][-1]\n",
    "        if pred in votes:\n",
    "            votes[pred] = votes[pred] + 1\n",
    "        else:\n",
    "            votes[pred] = 0\n",
    "    \n",
    "    votes = sorted(votes.items(), key=operator.itemgetter(1), reverse=True)\n",
    "    return votes[0][0]"
   ]
  },
  {
   "cell_type": "code",
   "execution_count": 45,
   "id": "0787ca25",
   "metadata": {},
   "outputs": [
    {
     "name": "stdout",
     "output_type": "stream",
     "text": [
      "Prediction: Versicolor, Truth: Versicolor\n",
      "Prediction: Setosa, Truth: Setosa\n",
      "Prediction: Versicolor, Truth: Virginica\n"
     ]
    }
   ],
   "source": [
    "prediction = KNN(train_data, test_data[0], 3)\n",
    "truth = test_data[0][4]\n",
    "print(\"Prediction: %s, Truth: %s\" % (prediction, truth))\n",
    "\n",
    "prediction = KNN(train_data, test_data[1], 3)\n",
    "truth = test_data[1][4]\n",
    "print(\"Prediction: %s, Truth: %s\" % (prediction, truth))\n",
    "\n",
    "prediction = KNN(train_data, test_data[2], 3)\n",
    "truth = test_data[2][4]\n",
    "print(\"Prediction: %s, Truth: %s\" % (prediction, truth))"
   ]
  },
  {
   "cell_type": "markdown",
   "id": "88192841",
   "metadata": {},
   "source": [
    "# Exercise 2"
   ]
  },
  {
   "cell_type": "markdown",
   "id": "37b5c498",
   "metadata": {},
   "source": [
    "In the logistic regression example, I gave you a new iris data:\n",
    "\n",
    "4.8,2.5,5.3,2.4\n",
    "Please classify this flower using KNN (with all libs available as you like)"
   ]
  },
  {
   "cell_type": "code",
   "execution_count": 46,
   "id": "a16306de",
   "metadata": {},
   "outputs": [
    {
     "name": "stdout",
     "output_type": "stream",
     "text": [
      "Prediction: Versicolor\n"
     ]
    }
   ],
   "source": [
    "# Using my own trained KNN for fun\n",
    "prediction = KNN(train_data, [4.8,2.5,5.3,2.4], 3)\n",
    "print(\"Prediction: %s\" % (prediction))"
   ]
  }
 ],
 "metadata": {
  "kernelspec": {
   "display_name": "Python 3 (ipykernel)",
   "language": "python",
   "name": "python3"
  },
  "language_info": {
   "codemirror_mode": {
    "name": "ipython",
    "version": 3
   },
   "file_extension": ".py",
   "mimetype": "text/x-python",
   "name": "python",
   "nbconvert_exporter": "python",
   "pygments_lexer": "ipython3",
   "version": "3.9.7"
  },
  "toc": {
   "base_numbering": 1,
   "nav_menu": {},
   "number_sections": true,
   "sideBar": true,
   "skip_h1_title": false,
   "title_cell": "Table of Contents",
   "title_sidebar": "Contents",
   "toc_cell": false,
   "toc_position": {},
   "toc_section_display": true,
   "toc_window_display": false
  }
 },
 "nbformat": 4,
 "nbformat_minor": 5
}
